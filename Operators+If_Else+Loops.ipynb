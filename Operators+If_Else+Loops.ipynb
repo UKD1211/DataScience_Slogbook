{
  "nbformat": 4,
  "nbformat_minor": 0,
  "metadata": {
    "colab": {
      "provenance": [],
      "authorship_tag": "ABX9TyNW784UE8Py2CPzdNfWu+NI",
      "include_colab_link": true
    },
    "kernelspec": {
      "name": "python3",
      "display_name": "Python 3"
    },
    "language_info": {
      "name": "python"
    }
  },
  "cells": [
    {
      "cell_type": "markdown",
      "metadata": {
        "id": "view-in-github",
        "colab_type": "text"
      },
      "source": [
        "<a href=\"https://colab.research.google.com/github/UKD1211/DataScience_Slogbook/blob/main/Operators%2BIf_Else%2BLoops.ipynb\" target=\"_parent\"><img src=\"https://colab.research.google.com/assets/colab-badge.svg\" alt=\"Open In Colab\"/></a>"
      ]
    },
    {
      "cell_type": "markdown",
      "source": [
        "# Operators in Python\n",
        "\n",
        "- Arithmetic Operators\n",
        "- Relational Operators\n",
        "- Logical Operators\n",
        "- Bitwise Operators\n",
        "- Assignment Operators\n",
        "- Membership Operators"
      ],
      "metadata": {
        "id": "bI9Zz4Xd3ylZ"
      }
    },
    {
      "cell_type": "code",
      "source": [
        "#Arithmatic operators"
      ],
      "metadata": {
        "id": "0nyd6HWY3_Tf"
      },
      "execution_count": 1,
      "outputs": []
    },
    {
      "cell_type": "code",
      "source": [
        "print(5+6)\n",
        "\n",
        "print(5-6)\n",
        "\n",
        "print(5*6)\n",
        "\n",
        "print(5/2)\n",
        "\n",
        "print(5//2) #integer divison\n",
        "\n",
        "print(5%2)  #modulus\n",
        "\n",
        "print(5**2) #power of"
      ],
      "metadata": {
        "colab": {
          "base_uri": "https://localhost:8080/"
        },
        "id": "d1Wp51YI4omj",
        "outputId": "a04a67d7-e804-40ea-9e3a-2e8ce02295ca"
      },
      "execution_count": 2,
      "outputs": [
        {
          "output_type": "stream",
          "name": "stdout",
          "text": [
            "11\n",
            "-1\n",
            "30\n",
            "2.5\n",
            "2\n",
            "1\n",
            "25\n"
          ]
        }
      ]
    },
    {
      "cell_type": "code",
      "source": [
        "#Relational Operators"
      ],
      "metadata": {
        "id": "O3vmZa2H5KcX"
      },
      "execution_count": 3,
      "outputs": []
    },
    {
      "cell_type": "code",
      "source": [
        "print(4>6)"
      ],
      "metadata": {
        "colab": {
          "base_uri": "https://localhost:8080/"
        },
        "id": "9DI9JIqs5QP-",
        "outputId": "091c626b-0c98-4847-9429-0edff34973c3"
      },
      "execution_count": 4,
      "outputs": [
        {
          "output_type": "stream",
          "name": "stdout",
          "text": [
            "False\n"
          ]
        }
      ]
    },
    {
      "cell_type": "code",
      "source": [
        "print(4<7)"
      ],
      "metadata": {
        "colab": {
          "base_uri": "https://localhost:8080/"
        },
        "id": "0mvzZGTy5Xff",
        "outputId": "441b1ae8-4d68-4ec1-849e-88151f1740d3"
      },
      "execution_count": 5,
      "outputs": [
        {
          "output_type": "stream",
          "name": "stdout",
          "text": [
            "True\n"
          ]
        }
      ]
    },
    {
      "cell_type": "code",
      "source": [
        "print(4<=4)"
      ],
      "metadata": {
        "colab": {
          "base_uri": "https://localhost:8080/"
        },
        "id": "ZCB9HNRC5Zt8",
        "outputId": "c8948616-9d70-44db-d34e-57f6616f206e"
      },
      "execution_count": 6,
      "outputs": [
        {
          "output_type": "stream",
          "name": "stdout",
          "text": [
            "True\n"
          ]
        }
      ]
    },
    {
      "cell_type": "code",
      "source": [
        "print(4==4)"
      ],
      "metadata": {
        "colab": {
          "base_uri": "https://localhost:8080/"
        },
        "id": "tFm-SCJ75gb5",
        "outputId": "ae0e7e29-cff4-4316-f62d-6251c73ba4ae"
      },
      "execution_count": 7,
      "outputs": [
        {
          "output_type": "stream",
          "name": "stdout",
          "text": [
            "True\n"
          ]
        }
      ]
    },
    {
      "cell_type": "code",
      "source": [
        "#Logical Operators"
      ],
      "metadata": {
        "id": "NdSXL8HV5j2T"
      },
      "execution_count": 8,
      "outputs": []
    },
    {
      "cell_type": "code",
      "source": [
        "print(1 and 0)\n",
        "\n",
        "print(1 or 0)\n",
        "\n",
        "print(not 1)"
      ],
      "metadata": {
        "colab": {
          "base_uri": "https://localhost:8080/"
        },
        "id": "Na2wZcWO5s60",
        "outputId": "3fadc595-f22e-424a-f790-d91fc5b523ec"
      },
      "execution_count": 9,
      "outputs": [
        {
          "output_type": "stream",
          "name": "stdout",
          "text": [
            "0\n",
            "1\n",
            "False\n"
          ]
        }
      ]
    },
    {
      "cell_type": "code",
      "source": [
        "#Bitwise Operator"
      ],
      "metadata": {
        "id": "wZHg8l5A5-o1"
      },
      "execution_count": 10,
      "outputs": []
    },
    {
      "cell_type": "code",
      "source": [
        "#bitwise and = &\n",
        "print(2 & 3)    # 2 = 010 , 3 = 011 now 2&3 = 010 = 2\n",
        "\n",
        "#bitwise or = |\n",
        "print(2 | 3)    #same here 2|3 = 011 = 3\n",
        "\n",
        "#bitwise xor = ^\n",
        "print(2 ^ 3)    #2^3 = 001 = 1\n",
        "\n",
        "print(~4)\n",
        "\n",
        "print(4 >> 2)\n",
        "\n",
        "print(4<<2)"
      ],
      "metadata": {
        "colab": {
          "base_uri": "https://localhost:8080/"
        },
        "id": "3o66ulbv6YDF",
        "outputId": "a7168aba-8c3e-4b83-d416-45ebd724cb3f"
      },
      "execution_count": 13,
      "outputs": [
        {
          "output_type": "stream",
          "name": "stdout",
          "text": [
            "2\n",
            "3\n",
            "1\n",
            "-5\n",
            "1\n",
            "16\n"
          ]
        }
      ]
    },
    {
      "cell_type": "code",
      "source": [
        "#assignment operators"
      ],
      "metadata": {
        "id": "XGbwascS6fkS"
      },
      "execution_count": 14,
      "outputs": []
    },
    {
      "cell_type": "code",
      "source": [
        "# =\n",
        "a = 2\n",
        "\n",
        "#a = a+2\n",
        "a += 2\n",
        "a"
      ],
      "metadata": {
        "colab": {
          "base_uri": "https://localhost:8080/"
        },
        "id": "sOmk332s_NEH",
        "outputId": "901ec5f0-d723-445a-9832-cf4f250b1945"
      },
      "execution_count": 17,
      "outputs": [
        {
          "output_type": "execute_result",
          "data": {
            "text/plain": [
              "4"
            ]
          },
          "metadata": {},
          "execution_count": 17
        }
      ]
    },
    {
      "cell_type": "code",
      "source": [
        "# here a++ or ++a not used"
      ],
      "metadata": {
        "id": "Q_JCne10_n1O"
      },
      "execution_count": 18,
      "outputs": []
    },
    {
      "cell_type": "code",
      "source": [
        "# Membership Operator"
      ],
      "metadata": {
        "id": "DD2_MOpA_wjK"
      },
      "execution_count": 19,
      "outputs": []
    },
    {
      "cell_type": "code",
      "source": [
        "#in/not in\n",
        "\n",
        "print('D' in \"Delhi\")"
      ],
      "metadata": {
        "colab": {
          "base_uri": "https://localhost:8080/"
        },
        "id": "x5zpCTlk_9FH",
        "outputId": "618570fa-5a14-4f88-99dc-39231e198234"
      },
      "execution_count": 20,
      "outputs": [
        {
          "output_type": "stream",
          "name": "stdout",
          "text": [
            "True\n"
          ]
        }
      ]
    },
    {
      "cell_type": "code",
      "source": [
        "print('D' not in \"Delhi\")"
      ],
      "metadata": {
        "colab": {
          "base_uri": "https://localhost:8080/"
        },
        "id": "yz4u3qrRAWvS",
        "outputId": "2e78c5af-e956-4450-9509-8ff9d3c4e64b"
      },
      "execution_count": 21,
      "outputs": [
        {
          "output_type": "stream",
          "name": "stdout",
          "text": [
            "False\n"
          ]
        }
      ]
    },
    {
      "cell_type": "code",
      "source": [
        "print( 1 in [2,3,4,5])"
      ],
      "metadata": {
        "colab": {
          "base_uri": "https://localhost:8080/"
        },
        "id": "SRI0BVctAc0V",
        "outputId": "71725aaf-27bc-45db-fe4c-a7ed6c62bcf0"
      },
      "execution_count": 22,
      "outputs": [
        {
          "output_type": "stream",
          "name": "stdout",
          "text": [
            "False\n"
          ]
        }
      ]
    },
    {
      "cell_type": "code",
      "source": [
        "# Program - Find the sum of 3 digit number entered by the user"
      ],
      "metadata": {
        "id": "DtdxbzUKAicT"
      },
      "execution_count": 23,
      "outputs": []
    },
    {
      "cell_type": "code",
      "source": [
        "num = int(input(\"enter a 3 digit no:\"))\n",
        "#345%10 -> 5\n",
        "a= num%10\n",
        "num = num//10\n",
        "\n",
        "#34%10 -> 4\n",
        "b = num%10\n",
        "num = num//10\n",
        "\n",
        "#3%10 -> 3\n",
        "c = num%10\n",
        "\n",
        "sum = (a+b+c)\n",
        "print(sum)"
      ],
      "metadata": {
        "colab": {
          "base_uri": "https://localhost:8080/"
        },
        "id": "O3VoI2GhG4KK",
        "outputId": "d42e5cf9-ee8f-4379-e028-47bafcb42c91"
      },
      "execution_count": 32,
      "outputs": [
        {
          "output_type": "stream",
          "name": "stdout",
          "text": [
            "enter a 3 digit no:344\n",
            "11\n"
          ]
        }
      ]
    },
    {
      "cell_type": "markdown",
      "source": [
        "# **If-else in python**"
      ],
      "metadata": {
        "id": "iAZeo5brN9xz"
      }
    },
    {
      "cell_type": "code",
      "source": [
        "# login program and indentation\n",
        "# email = ukd1211@gmail.com\n",
        "#password = 1234"
      ],
      "metadata": {
        "id": "SGy36HTqOBvt"
      },
      "execution_count": 33,
      "outputs": []
    },
    {
      "cell_type": "code",
      "source": [
        "input_email = input(\"enter email\")\n",
        "input_password = input(\"enter password\")\n",
        "\n",
        "if input_email == \"ukd1211@gmail.com\" and input_password == \"1234\":\n",
        "  print(\"welcome bro\")\n",
        "else:\n",
        "  print(\"Fuck off\")"
      ],
      "metadata": {
        "colab": {
          "base_uri": "https://localhost:8080/"
        },
        "id": "62eu_4p1OJFo",
        "outputId": "b654d721-fde3-433c-f2d6-e0d85568cc22"
      },
      "execution_count": 1,
      "outputs": [
        {
          "output_type": "stream",
          "name": "stdout",
          "text": [
            "enter emailuttamdutta1211@gmail.com\n",
            "enter password33453\n",
            "Fuck off\n"
          ]
        }
      ]
    },
    {
      "cell_type": "code",
      "source": [
        "input_email = input(\"enter email\")\n",
        "input_password = input(\"enter password\")\n",
        "\n",
        "if input_email == \"ukd1211@gmail.com\" and input_password == \"1234\":\n",
        "  print(\"welcome bro\")\n",
        "elif input_email == \"ukd1211@gmail.com\" and input_password != \"1234\":\n",
        "  print(\"Password wrong\")\n",
        "  new_password = input(\"enter the password again\")\n",
        "  if new_password == \"1234\":\n",
        "    print(\"finally correct\")\n",
        "  else:\n",
        "    print(\"still wrong\")\n",
        "else:\n",
        "  print(\"Fuck off\")"
      ],
      "metadata": {
        "colab": {
          "base_uri": "https://localhost:8080/"
        },
        "id": "f9HJt3lrDpTL",
        "outputId": "90732aaf-6592-4ec9-f9e5-85fef973ae28"
      },
      "execution_count": 2,
      "outputs": [
        {
          "output_type": "stream",
          "name": "stdout",
          "text": [
            "enter emailukd1211@gmail.com\n",
            "enter password2333\n",
            "Password wrong\n",
            "enter the password again1234\n",
            "finally correct\n"
          ]
        }
      ]
    },
    {
      "cell_type": "code",
      "source": [
        "#min no print in 3 nos\n",
        "\n",
        "a = int(input(\"enter the 1st no\"))\n",
        "b = int(input(\"enter the 2nd no\"))\n",
        "c = int(input(\"enter the 3rd no\"))\n",
        "\n",
        "if a<b and a<c:\n",
        "  print(\"smallest is \",a)\n",
        "elif b<c:\n",
        "  print(\"the smallest is\",b)\n",
        "else:\n",
        "  print(\"smallest is \",c)"
      ],
      "metadata": {
        "colab": {
          "base_uri": "https://localhost:8080/"
        },
        "id": "SpUyZB4fGb9Y",
        "outputId": "d66c1646-c06e-4d84-a282-a1e606a960ac"
      },
      "execution_count": 7,
      "outputs": [
        {
          "output_type": "stream",
          "name": "stdout",
          "text": [
            "enter the 1st no3\n",
            "enter the 2nd no3\n",
            "enter the 3rd no3\n",
            "smallest is  3\n"
          ]
        }
      ]
    },
    {
      "cell_type": "code",
      "source": [
        "#menu driven calculator\n",
        "\n",
        "num_1st = int(input(\"Enter the first number: \"))\n",
        "num_2nd = int(input(\"Enter the second number: \"))\n",
        "\n",
        "op = input(\"Enter the operation \")\n",
        "\n",
        "if op == '+':\n",
        "  print(num_1st+num_2nd)\n",
        "elif op == '-':\n",
        "  print(num_1st-num_2nd)\n",
        "elif op == '*':\n",
        "  print(num_1st*num_2nd)\n",
        "elif op == \"/\":\n",
        "  print(num_1st/num_2nd)\n",
        "else:\n",
        "  print(\"u have not typed the correcr op\")"
      ],
      "metadata": {
        "colab": {
          "base_uri": "https://localhost:8080/"
        },
        "id": "3EJwk1beOjwl",
        "outputId": "38174308-6443-4b34-d4ab-30f3f1f2ced0"
      },
      "execution_count": 8,
      "outputs": [
        {
          "output_type": "stream",
          "name": "stdout",
          "text": [
            "Enter the first number: 22\n",
            "Enter the second number: 33\n",
            "Enter the operation -\n",
            "-11\n"
          ]
        }
      ]
    },
    {
      "cell_type": "markdown",
      "source": [
        "# Modules in Python\n",
        "\n",
        "- math\n",
        "- keywords\n",
        "- random\n",
        "- datetime"
      ],
      "metadata": {
        "id": "ndLS8nZMTYsN"
      }
    },
    {
      "cell_type": "code",
      "source": [
        "#math\n",
        "\n",
        "import math"
      ],
      "metadata": {
        "id": "R4re9gNITht7"
      },
      "execution_count": 9,
      "outputs": []
    },
    {
      "cell_type": "code",
      "source": [
        "math.factorial(5)"
      ],
      "metadata": {
        "colab": {
          "base_uri": "https://localhost:8080/"
        },
        "id": "5uk-ePVVUDZY",
        "outputId": "6b12945a-8f91-4021-9a62-a60edce5d148"
      },
      "execution_count": 10,
      "outputs": [
        {
          "output_type": "execute_result",
          "data": {
            "text/plain": [
              "120"
            ]
          },
          "metadata": {},
          "execution_count": 10
        }
      ]
    },
    {
      "cell_type": "code",
      "source": [
        "#keyword\n",
        "import keyword\n",
        "print(keyword.kwlist)"
      ],
      "metadata": {
        "colab": {
          "base_uri": "https://localhost:8080/"
        },
        "id": "qa4h8pXTUTJt",
        "outputId": "9d1dcd4c-7e34-498e-8043-1ac7e5c05ab8"
      },
      "execution_count": 11,
      "outputs": [
        {
          "output_type": "stream",
          "name": "stdout",
          "text": [
            "['False', 'None', 'True', 'and', 'as', 'assert', 'async', 'await', 'break', 'class', 'continue', 'def', 'del', 'elif', 'else', 'except', 'finally', 'for', 'from', 'global', 'if', 'import', 'in', 'is', 'lambda', 'nonlocal', 'not', 'or', 'pass', 'raise', 'return', 'try', 'while', 'with', 'yield']\n"
          ]
        }
      ]
    },
    {
      "cell_type": "code",
      "source": [
        "#random\n",
        "import random\n",
        "print(random.randint(1,100))"
      ],
      "metadata": {
        "colab": {
          "base_uri": "https://localhost:8080/"
        },
        "id": "HCmwuQzcUph-",
        "outputId": "dded93c3-bbc2-4fa1-d838-3da60cf52b50"
      },
      "execution_count": 13,
      "outputs": [
        {
          "output_type": "stream",
          "name": "stdout",
          "text": [
            "36\n"
          ]
        }
      ]
    },
    {
      "cell_type": "code",
      "source": [
        "#datetime\n",
        "import datetime\n",
        "now = datetime.datetime.now()\n",
        "print(now)\n",
        "print(now.year)\n",
        "print(now.month)\n",
        "print(now.day)\n",
        "print(now.hour)\n",
        "print(now.minute)\n",
        "print(now.second)"
      ],
      "metadata": {
        "colab": {
          "base_uri": "https://localhost:8080/"
        },
        "id": "7ig_dhkgUzso",
        "outputId": "a35e0b26-39ce-46d4-c3f4-2df5f3391894"
      },
      "execution_count": 14,
      "outputs": [
        {
          "output_type": "stream",
          "name": "stdout",
          "text": [
            "2025-07-18 16:18:11.841206\n",
            "2025\n",
            "7\n",
            "18\n",
            "16\n",
            "18\n",
            "11\n"
          ]
        }
      ]
    },
    {
      "cell_type": "code",
      "source": [
        "help('math')"
      ],
      "metadata": {
        "colab": {
          "base_uri": "https://localhost:8080/"
        },
        "id": "DncNCSauVJny",
        "outputId": "301e03e9-2282-4c05-a7d8-ac3df33c381a"
      },
      "execution_count": 17,
      "outputs": [
        {
          "output_type": "stream",
          "name": "stdout",
          "text": [
            "Help on built-in module math:\n",
            "\n",
            "NAME\n",
            "    math\n",
            "\n",
            "DESCRIPTION\n",
            "    This module provides access to the mathematical functions\n",
            "    defined by the C standard.\n",
            "\n",
            "FUNCTIONS\n",
            "    acos(x, /)\n",
            "        Return the arc cosine (measured in radians) of x.\n",
            "        \n",
            "        The result is between 0 and pi.\n",
            "    \n",
            "    acosh(x, /)\n",
            "        Return the inverse hyperbolic cosine of x.\n",
            "    \n",
            "    asin(x, /)\n",
            "        Return the arc sine (measured in radians) of x.\n",
            "        \n",
            "        The result is between -pi/2 and pi/2.\n",
            "    \n",
            "    asinh(x, /)\n",
            "        Return the inverse hyperbolic sine of x.\n",
            "    \n",
            "    atan(x, /)\n",
            "        Return the arc tangent (measured in radians) of x.\n",
            "        \n",
            "        The result is between -pi/2 and pi/2.\n",
            "    \n",
            "    atan2(y, x, /)\n",
            "        Return the arc tangent (measured in radians) of y/x.\n",
            "        \n",
            "        Unlike atan(y/x), the signs of both x and y are considered.\n",
            "    \n",
            "    atanh(x, /)\n",
            "        Return the inverse hyperbolic tangent of x.\n",
            "    \n",
            "    cbrt(x, /)\n",
            "        Return the cube root of x.\n",
            "    \n",
            "    ceil(x, /)\n",
            "        Return the ceiling of x as an Integral.\n",
            "        \n",
            "        This is the smallest integer >= x.\n",
            "    \n",
            "    comb(n, k, /)\n",
            "        Number of ways to choose k items from n items without repetition and without order.\n",
            "        \n",
            "        Evaluates to n! / (k! * (n - k)!) when k <= n and evaluates\n",
            "        to zero when k > n.\n",
            "        \n",
            "        Also called the binomial coefficient because it is equivalent\n",
            "        to the coefficient of k-th term in polynomial expansion of the\n",
            "        expression (1 + x)**n.\n",
            "        \n",
            "        Raises TypeError if either of the arguments are not integers.\n",
            "        Raises ValueError if either of the arguments are negative.\n",
            "    \n",
            "    copysign(x, y, /)\n",
            "        Return a float with the magnitude (absolute value) of x but the sign of y.\n",
            "        \n",
            "        On platforms that support signed zeros, copysign(1.0, -0.0)\n",
            "        returns -1.0.\n",
            "    \n",
            "    cos(x, /)\n",
            "        Return the cosine of x (measured in radians).\n",
            "    \n",
            "    cosh(x, /)\n",
            "        Return the hyperbolic cosine of x.\n",
            "    \n",
            "    degrees(x, /)\n",
            "        Convert angle x from radians to degrees.\n",
            "    \n",
            "    dist(p, q, /)\n",
            "        Return the Euclidean distance between two points p and q.\n",
            "        \n",
            "        The points should be specified as sequences (or iterables) of\n",
            "        coordinates.  Both inputs must have the same dimension.\n",
            "        \n",
            "        Roughly equivalent to:\n",
            "            sqrt(sum((px - qx) ** 2.0 for px, qx in zip(p, q)))\n",
            "    \n",
            "    erf(x, /)\n",
            "        Error function at x.\n",
            "    \n",
            "    erfc(x, /)\n",
            "        Complementary error function at x.\n",
            "    \n",
            "    exp(x, /)\n",
            "        Return e raised to the power of x.\n",
            "    \n",
            "    exp2(x, /)\n",
            "        Return 2 raised to the power of x.\n",
            "    \n",
            "    expm1(x, /)\n",
            "        Return exp(x)-1.\n",
            "        \n",
            "        This function avoids the loss of precision involved in the direct evaluation of exp(x)-1 for small x.\n",
            "    \n",
            "    fabs(x, /)\n",
            "        Return the absolute value of the float x.\n",
            "    \n",
            "    factorial(n, /)\n",
            "        Find n!.\n",
            "        \n",
            "        Raise a ValueError if x is negative or non-integral.\n",
            "    \n",
            "    floor(x, /)\n",
            "        Return the floor of x as an Integral.\n",
            "        \n",
            "        This is the largest integer <= x.\n",
            "    \n",
            "    fmod(x, y, /)\n",
            "        Return fmod(x, y), according to platform C.\n",
            "        \n",
            "        x % y may differ.\n",
            "    \n",
            "    frexp(x, /)\n",
            "        Return the mantissa and exponent of x, as pair (m, e).\n",
            "        \n",
            "        m is a float and e is an int, such that x = m * 2.**e.\n",
            "        If x is 0, m and e are both 0.  Else 0.5 <= abs(m) < 1.0.\n",
            "    \n",
            "    fsum(seq, /)\n",
            "        Return an accurate floating point sum of values in the iterable seq.\n",
            "        \n",
            "        Assumes IEEE-754 floating point arithmetic.\n",
            "    \n",
            "    gamma(x, /)\n",
            "        Gamma function at x.\n",
            "    \n",
            "    gcd(*integers)\n",
            "        Greatest Common Divisor.\n",
            "    \n",
            "    hypot(...)\n",
            "        hypot(*coordinates) -> value\n",
            "        \n",
            "        Multidimensional Euclidean distance from the origin to a point.\n",
            "        \n",
            "        Roughly equivalent to:\n",
            "            sqrt(sum(x**2 for x in coordinates))\n",
            "        \n",
            "        For a two dimensional point (x, y), gives the hypotenuse\n",
            "        using the Pythagorean theorem:  sqrt(x*x + y*y).\n",
            "        \n",
            "        For example, the hypotenuse of a 3/4/5 right triangle is:\n",
            "        \n",
            "            >>> hypot(3.0, 4.0)\n",
            "            5.0\n",
            "    \n",
            "    isclose(a, b, *, rel_tol=1e-09, abs_tol=0.0)\n",
            "        Determine whether two floating point numbers are close in value.\n",
            "        \n",
            "          rel_tol\n",
            "            maximum difference for being considered \"close\", relative to the\n",
            "            magnitude of the input values\n",
            "          abs_tol\n",
            "            maximum difference for being considered \"close\", regardless of the\n",
            "            magnitude of the input values\n",
            "        \n",
            "        Return True if a is close in value to b, and False otherwise.\n",
            "        \n",
            "        For the values to be considered close, the difference between them\n",
            "        must be smaller than at least one of the tolerances.\n",
            "        \n",
            "        -inf, inf and NaN behave similarly to the IEEE 754 Standard.  That\n",
            "        is, NaN is not close to anything, even itself.  inf and -inf are\n",
            "        only close to themselves.\n",
            "    \n",
            "    isfinite(x, /)\n",
            "        Return True if x is neither an infinity nor a NaN, and False otherwise.\n",
            "    \n",
            "    isinf(x, /)\n",
            "        Return True if x is a positive or negative infinity, and False otherwise.\n",
            "    \n",
            "    isnan(x, /)\n",
            "        Return True if x is a NaN (not a number), and False otherwise.\n",
            "    \n",
            "    isqrt(n, /)\n",
            "        Return the integer part of the square root of the input.\n",
            "    \n",
            "    lcm(*integers)\n",
            "        Least Common Multiple.\n",
            "    \n",
            "    ldexp(x, i, /)\n",
            "        Return x * (2**i).\n",
            "        \n",
            "        This is essentially the inverse of frexp().\n",
            "    \n",
            "    lgamma(x, /)\n",
            "        Natural logarithm of absolute value of Gamma function at x.\n",
            "    \n",
            "    log(...)\n",
            "        log(x, [base=math.e])\n",
            "        Return the logarithm of x to the given base.\n",
            "        \n",
            "        If the base not specified, returns the natural logarithm (base e) of x.\n",
            "    \n",
            "    log10(x, /)\n",
            "        Return the base 10 logarithm of x.\n",
            "    \n",
            "    log1p(x, /)\n",
            "        Return the natural logarithm of 1+x (base e).\n",
            "        \n",
            "        The result is computed in a way which is accurate for x near zero.\n",
            "    \n",
            "    log2(x, /)\n",
            "        Return the base 2 logarithm of x.\n",
            "    \n",
            "    modf(x, /)\n",
            "        Return the fractional and integer parts of x.\n",
            "        \n",
            "        Both results carry the sign of x and are floats.\n",
            "    \n",
            "    nextafter(x, y, /)\n",
            "        Return the next floating-point value after x towards y.\n",
            "    \n",
            "    perm(n, k=None, /)\n",
            "        Number of ways to choose k items from n items without repetition and with order.\n",
            "        \n",
            "        Evaluates to n! / (n - k)! when k <= n and evaluates\n",
            "        to zero when k > n.\n",
            "        \n",
            "        If k is not specified or is None, then k defaults to n\n",
            "        and the function returns n!.\n",
            "        \n",
            "        Raises TypeError if either of the arguments are not integers.\n",
            "        Raises ValueError if either of the arguments are negative.\n",
            "    \n",
            "    pow(x, y, /)\n",
            "        Return x**y (x to the power of y).\n",
            "    \n",
            "    prod(iterable, /, *, start=1)\n",
            "        Calculate the product of all the elements in the input iterable.\n",
            "        \n",
            "        The default start value for the product is 1.\n",
            "        \n",
            "        When the iterable is empty, return the start value.  This function is\n",
            "        intended specifically for use with numeric values and may reject\n",
            "        non-numeric types.\n",
            "    \n",
            "    radians(x, /)\n",
            "        Convert angle x from degrees to radians.\n",
            "    \n",
            "    remainder(x, y, /)\n",
            "        Difference between x and the closest integer multiple of y.\n",
            "        \n",
            "        Return x - n*y where n*y is the closest integer multiple of y.\n",
            "        In the case where x is exactly halfway between two multiples of\n",
            "        y, the nearest even value of n is used. The result is always exact.\n",
            "    \n",
            "    sin(x, /)\n",
            "        Return the sine of x (measured in radians).\n",
            "    \n",
            "    sinh(x, /)\n",
            "        Return the hyperbolic sine of x.\n",
            "    \n",
            "    sqrt(x, /)\n",
            "        Return the square root of x.\n",
            "    \n",
            "    tan(x, /)\n",
            "        Return the tangent of x (measured in radians).\n",
            "    \n",
            "    tanh(x, /)\n",
            "        Return the hyperbolic tangent of x.\n",
            "    \n",
            "    trunc(x, /)\n",
            "        Truncates the Real x to the nearest Integral toward 0.\n",
            "        \n",
            "        Uses the __trunc__ magic method.\n",
            "    \n",
            "    ulp(x, /)\n",
            "        Return the value of the least significant bit of the float x.\n",
            "\n",
            "DATA\n",
            "    e = 2.718281828459045\n",
            "    inf = inf\n",
            "    nan = nan\n",
            "    pi = 3.141592653589793\n",
            "    tau = 6.283185307179586\n",
            "\n",
            "FILE\n",
            "    (built-in)\n",
            "\n",
            "\n"
          ]
        }
      ]
    },
    {
      "cell_type": "markdown",
      "source": [
        "# Loops in Python\n",
        "\n",
        "- Need for loops\n",
        "- While Loop\n",
        "- For Loop"
      ],
      "metadata": {
        "id": "BCo4oCAPV9mA"
      }
    },
    {
      "cell_type": "code",
      "source": [
        "#while loop - print a table"
      ],
      "metadata": {
        "id": "wlxp__xgWWp8"
      },
      "execution_count": 18,
      "outputs": []
    },
    {
      "cell_type": "code",
      "source": [
        "a = int(input(\"enter the number\"))\n",
        "\n",
        "i = 1\n",
        "while i<11:\n",
        "  print(a,'*',i,'=',a*i)\n",
        "  i += 1"
      ],
      "metadata": {
        "colab": {
          "base_uri": "https://localhost:8080/"
        },
        "id": "GVSGxITKj1vV",
        "outputId": "d2a32186-d93a-42b7-be98-cdbe97d13c77"
      },
      "execution_count": 20,
      "outputs": [
        {
          "output_type": "stream",
          "name": "stdout",
          "text": [
            "enter the number88\n",
            "88 * 1 = 88\n",
            "88 * 2 = 176\n",
            "88 * 3 = 264\n",
            "88 * 4 = 352\n",
            "88 * 5 = 440\n",
            "88 * 6 = 528\n",
            "88 * 7 = 616\n",
            "88 * 8 = 704\n",
            "88 * 9 = 792\n",
            "88 * 10 = 880\n"
          ]
        }
      ]
    },
    {
      "cell_type": "code",
      "source": [
        "# While with else"
      ],
      "metadata": {
        "id": "Ede4EgYgkdLH"
      },
      "execution_count": 21,
      "outputs": []
    },
    {
      "cell_type": "code",
      "source": [
        "x = 1\n",
        "\n",
        "while x<3:\n",
        "  print(x)\n",
        "  x += 1\n",
        "\n",
        "else:\n",
        "  print('limit crossed')"
      ],
      "metadata": {
        "colab": {
          "base_uri": "https://localhost:8080/"
        },
        "id": "Eii57yNwmVFU",
        "outputId": "d1352dfb-8ad2-44ae-c943-5a2f44179b76"
      },
      "execution_count": 22,
      "outputs": [
        {
          "output_type": "stream",
          "name": "stdout",
          "text": [
            "1\n",
            "2\n",
            "limit crossed\n"
          ]
        }
      ]
    },
    {
      "cell_type": "code",
      "source": [
        "#geuessing game\n",
        "\n",
        "num_guess = 100\n",
        "\n",
        "num_given = int(input(\"guess a no:\"))          #Wrong Approach\n",
        "\n",
        "while num_given < num_guess:\n",
        "  print(\"please upper the number\")\n",
        "  num_given = int(input(\"again enter the number here\"))\n",
        "  if num_given == num_guess:\n",
        "    print(\"you have made a correct guess\")\n",
        "  elif num_given > num_guess:\n",
        "    while num_given > num_guess:\n",
        "      print(\"Please lower the no\")\n",
        "      num_given = int(input(\"type the no here again\"))\n",
        "  else :\n",
        "    print(\"you are wrong here\")"
      ],
      "metadata": {
        "colab": {
          "base_uri": "https://localhost:8080/"
        },
        "id": "OiDM3iCj0nB0",
        "outputId": "e6996ec8-9afb-4016-995f-c955276aa52c"
      },
      "execution_count": 29,
      "outputs": [
        {
          "name": "stdout",
          "output_type": "stream",
          "text": [
            "guess a no:44\n",
            "please upper the number\n",
            "again enter the number here78\n",
            "you are wrong here\n",
            "please upper the number\n",
            "again enter the number here22\n",
            "you are wrong here\n",
            "please upper the number\n",
            "again enter the number here90\n",
            "you are wrong here\n",
            "please upper the number\n",
            "again enter the number here101\n",
            "Please lower the no\n",
            "type the no here again90\n",
            "please upper the number\n",
            "again enter the number here98\n",
            "you are wrong here\n",
            "please upper the number\n",
            "again enter the number here7\n",
            "you are wrong here\n",
            "please upper the number\n",
            "again enter the number here109\n",
            "Please lower the no\n",
            "type the no here again103\n",
            "Please lower the no\n",
            "type the no here again102\n",
            "Please lower the no\n",
            "type the no here again101\n",
            "Please lower the no\n",
            "type the no here again100\n"
          ]
        }
      ]
    },
    {
      "cell_type": "code",
      "source": [
        "num_guess = 100\n",
        "\n",
        "count = 0\n",
        "\n",
        "while True:\n",
        "    num_given = int(input(\"Guess a number: \"))\n",
        "    count += 1\n",
        "\n",
        "    if num_given < num_guess:\n",
        "        print(\"Please increase the number.\")\n",
        "    elif num_given > num_guess:\n",
        "        print(\"Please lower the number.\")\n",
        "    else:\n",
        "        print(\"You have made a correct guess!\")\n",
        "        print(f\"You have made {count} guesses.\")\n",
        "        if count < 5:\n",
        "          print(\"you are the winner \")\n",
        "        else :\n",
        "          print(\"you are looser cant count under 5 attempts\")\n",
        "        break\n",
        ""
      ],
      "metadata": {
        "colab": {
          "base_uri": "https://localhost:8080/"
        },
        "id": "urSKscgW3nDc",
        "outputId": "5688652e-df52-4382-90fa-5441c6ed91a8"
      },
      "execution_count": 34,
      "outputs": [
        {
          "output_type": "stream",
          "name": "stdout",
          "text": [
            "Guess a number: 22\n",
            "Please increase the number.\n",
            "Guess a number: 22\n",
            "Please increase the number.\n",
            "Guess a number: 12\n",
            "Please increase the number.\n",
            "Guess a number: 19\n",
            "Please increase the number.\n",
            "Guess a number: 40\n",
            "Please increase the number.\n",
            "Guess a number: 500\n",
            "Please lower the number.\n",
            "Guess a number: 100\n",
            "You have made a correct guess!\n",
            "You have made 7 guesses.\n",
            "you are looser cant count anything\n"
          ]
        }
      ]
    }
  ]
}